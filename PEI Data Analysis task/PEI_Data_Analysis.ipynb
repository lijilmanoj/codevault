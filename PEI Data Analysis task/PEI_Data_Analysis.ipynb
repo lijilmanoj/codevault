{
 "cells": [
  {
   "cell_type": "code",
   "execution_count": 4,
   "metadata": {},
   "outputs": [],
   "source": [
    "import pandas as pd\n",
    "#import pymssql as sql\n",
    "import pyodbc as pod"
   ]
  },
  {
   "cell_type": "code",
   "execution_count": 5,
   "metadata": {},
   "outputs": [],
   "source": [
    "Shipping = pd.read_json('D:/PEI Data Analysis task/Shipping.json')\n",
    "Order = pd.read_csv('D:/PEI Data Analysis task/Order.csv')\n",
    "Customer = pd.read_excel('D:/PEI Data Analysis task/Customer.xls')"
   ]
  },
  {
   "cell_type": "code",
   "execution_count": 6,
   "metadata": {},
   "outputs": [
    {
     "data": {
      "text/html": [
       "<div>\n",
       "<style scoped>\n",
       "    .dataframe tbody tr th:only-of-type {\n",
       "        vertical-align: middle;\n",
       "    }\n",
       "\n",
       "    .dataframe tbody tr th {\n",
       "        vertical-align: top;\n",
       "    }\n",
       "\n",
       "    .dataframe thead th {\n",
       "        text-align: right;\n",
       "    }\n",
       "</style>\n",
       "<table border=\"1\" class=\"dataframe\">\n",
       "  <thead>\n",
       "    <tr style=\"text-align: right;\">\n",
       "      <th></th>\n",
       "      <th>Shipping_ID</th>\n",
       "      <th>Status</th>\n",
       "      <th>Customer_ID</th>\n",
       "    </tr>\n",
       "  </thead>\n",
       "  <tbody>\n",
       "    <tr>\n",
       "      <th>0</th>\n",
       "      <td>1</td>\n",
       "      <td>Pending</td>\n",
       "      <td>173</td>\n",
       "    </tr>\n",
       "    <tr>\n",
       "      <th>1</th>\n",
       "      <td>2</td>\n",
       "      <td>Pending</td>\n",
       "      <td>155</td>\n",
       "    </tr>\n",
       "    <tr>\n",
       "      <th>2</th>\n",
       "      <td>3</td>\n",
       "      <td>Delivered</td>\n",
       "      <td>242</td>\n",
       "    </tr>\n",
       "    <tr>\n",
       "      <th>3</th>\n",
       "      <td>4</td>\n",
       "      <td>Pending</td>\n",
       "      <td>223</td>\n",
       "    </tr>\n",
       "    <tr>\n",
       "      <th>4</th>\n",
       "      <td>5</td>\n",
       "      <td>Delivered</td>\n",
       "      <td>72</td>\n",
       "    </tr>\n",
       "  </tbody>\n",
       "</table>\n",
       "</div>"
      ],
      "text/plain": [
       "   Shipping_ID     Status  Customer_ID\n",
       "0            1    Pending          173\n",
       "1            2    Pending          155\n",
       "2            3  Delivered          242\n",
       "3            4    Pending          223\n",
       "4            5  Delivered           72"
      ]
     },
     "execution_count": 6,
     "metadata": {},
     "output_type": "execute_result"
    }
   ],
   "source": [
    "Shipping.head()"
   ]
  },
  {
   "cell_type": "code",
   "execution_count": 7,
   "metadata": {},
   "outputs": [
    {
     "data": {
      "text/html": [
       "<div>\n",
       "<style scoped>\n",
       "    .dataframe tbody tr th:only-of-type {\n",
       "        vertical-align: middle;\n",
       "    }\n",
       "\n",
       "    .dataframe tbody tr th {\n",
       "        vertical-align: top;\n",
       "    }\n",
       "\n",
       "    .dataframe thead th {\n",
       "        text-align: right;\n",
       "    }\n",
       "</style>\n",
       "<table border=\"1\" class=\"dataframe\">\n",
       "  <thead>\n",
       "    <tr style=\"text-align: right;\">\n",
       "      <th></th>\n",
       "      <th>Order_ID</th>\n",
       "      <th>Item</th>\n",
       "      <th>Amount</th>\n",
       "      <th>Customer_ID</th>\n",
       "    </tr>\n",
       "  </thead>\n",
       "  <tbody>\n",
       "    <tr>\n",
       "      <th>0</th>\n",
       "      <td>1</td>\n",
       "      <td>Keyboard</td>\n",
       "      <td>400</td>\n",
       "      <td>139</td>\n",
       "    </tr>\n",
       "    <tr>\n",
       "      <th>1</th>\n",
       "      <td>2</td>\n",
       "      <td>Mouse</td>\n",
       "      <td>300</td>\n",
       "      <td>250</td>\n",
       "    </tr>\n",
       "    <tr>\n",
       "      <th>2</th>\n",
       "      <td>3</td>\n",
       "      <td>Monitor</td>\n",
       "      <td>12000</td>\n",
       "      <td>239</td>\n",
       "    </tr>\n",
       "    <tr>\n",
       "      <th>3</th>\n",
       "      <td>4</td>\n",
       "      <td>Keyboard</td>\n",
       "      <td>400</td>\n",
       "      <td>153</td>\n",
       "    </tr>\n",
       "    <tr>\n",
       "      <th>4</th>\n",
       "      <td>5</td>\n",
       "      <td>Mousepad</td>\n",
       "      <td>250</td>\n",
       "      <td>153</td>\n",
       "    </tr>\n",
       "  </tbody>\n",
       "</table>\n",
       "</div>"
      ],
      "text/plain": [
       "   Order_ID      Item  Amount  Customer_ID\n",
       "0         1  Keyboard     400          139\n",
       "1         2     Mouse     300          250\n",
       "2         3   Monitor   12000          239\n",
       "3         4  Keyboard     400          153\n",
       "4         5  Mousepad     250          153"
      ]
     },
     "execution_count": 7,
     "metadata": {},
     "output_type": "execute_result"
    }
   ],
   "source": [
    "Order.head()"
   ]
  },
  {
   "cell_type": "code",
   "execution_count": 8,
   "metadata": {},
   "outputs": [
    {
     "data": {
      "text/html": [
       "<div>\n",
       "<style scoped>\n",
       "    .dataframe tbody tr th:only-of-type {\n",
       "        vertical-align: middle;\n",
       "    }\n",
       "\n",
       "    .dataframe tbody tr th {\n",
       "        vertical-align: top;\n",
       "    }\n",
       "\n",
       "    .dataframe thead th {\n",
       "        text-align: right;\n",
       "    }\n",
       "</style>\n",
       "<table border=\"1\" class=\"dataframe\">\n",
       "  <thead>\n",
       "    <tr style=\"text-align: right;\">\n",
       "      <th></th>\n",
       "      <th>Customer_ID</th>\n",
       "      <th>First</th>\n",
       "      <th>Last</th>\n",
       "      <th>Age</th>\n",
       "      <th>Country</th>\n",
       "    </tr>\n",
       "  </thead>\n",
       "  <tbody>\n",
       "    <tr>\n",
       "      <th>0</th>\n",
       "      <td>1</td>\n",
       "      <td>Joseph</td>\n",
       "      <td>Rice</td>\n",
       "      <td>43</td>\n",
       "      <td>USA</td>\n",
       "    </tr>\n",
       "    <tr>\n",
       "      <th>1</th>\n",
       "      <td>2</td>\n",
       "      <td>Gary</td>\n",
       "      <td>Moore</td>\n",
       "      <td>71</td>\n",
       "      <td>USA</td>\n",
       "    </tr>\n",
       "    <tr>\n",
       "      <th>2</th>\n",
       "      <td>3</td>\n",
       "      <td>John</td>\n",
       "      <td>Walker</td>\n",
       "      <td>44</td>\n",
       "      <td>UK</td>\n",
       "    </tr>\n",
       "    <tr>\n",
       "      <th>3</th>\n",
       "      <td>4</td>\n",
       "      <td>Eric</td>\n",
       "      <td>Carter</td>\n",
       "      <td>38</td>\n",
       "      <td>UK</td>\n",
       "    </tr>\n",
       "    <tr>\n",
       "      <th>4</th>\n",
       "      <td>5</td>\n",
       "      <td>William</td>\n",
       "      <td>Jackson</td>\n",
       "      <td>58</td>\n",
       "      <td>UAE</td>\n",
       "    </tr>\n",
       "  </tbody>\n",
       "</table>\n",
       "</div>"
      ],
      "text/plain": [
       "   Customer_ID    First     Last  Age Country\n",
       "0            1   Joseph     Rice   43     USA\n",
       "1            2     Gary    Moore   71     USA\n",
       "2            3     John   Walker   44      UK\n",
       "3            4     Eric   Carter   38      UK\n",
       "4            5  William  Jackson   58     UAE"
      ]
     },
     "execution_count": 8,
     "metadata": {},
     "output_type": "execute_result"
    }
   ],
   "source": [
    "Customer.head()"
   ]
  },
  {
   "cell_type": "markdown",
   "metadata": {},
   "source": [
    "Missing date columns on orders and shipping.\n",
    "Shipping doesnt have OrderID to check the status of the order. One customer may have more than 1 order."
   ]
  },
  {
   "cell_type": "code",
   "execution_count": 9,
   "metadata": {},
   "outputs": [
    {
     "name": "stdout",
     "output_type": "stream",
     "text": [
      "\n",
      "-------\n",
      "Customer\n",
      "-------\n",
      " Customer_ID    0\n",
      "First          0\n",
      "Last           0\n",
      "Age            0\n",
      "Country        0\n",
      "dtype: int64\n",
      "\n",
      "-------\n",
      "Order\n",
      "-------\n",
      " Order_ID       0\n",
      "Item           0\n",
      "Amount         0\n",
      "Customer_ID    0\n",
      "dtype: int64\n",
      "\n",
      "-------\n",
      "Shipping\n",
      "-------\n",
      " Shipping_ID    0\n",
      "Status         0\n",
      "Customer_ID    0\n",
      "dtype: int64\n"
     ]
    }
   ],
   "source": [
    "#Checking for NULL values on the datasets\n",
    "print('\\r\\n-------\\r\\nCustomer\\r\\n-------\\r\\n',Customer.isnull().sum())\n",
    "print('\\r\\n-------\\r\\nOrder\\r\\n-------\\r\\n',Order.isnull().sum())\n",
    "print('\\r\\n-------\\r\\nShipping\\r\\n-------\\r\\n',Shipping.isnull().sum())\n",
    "\n",
    "# No null values observed"
   ]
  },
  {
   "cell_type": "code",
   "execution_count": 12,
   "metadata": {},
   "outputs": [],
   "source": [
    "def ins_conn_db(df,table_name):\n",
    "    server = 'DESKTOP-JAPNGMO'\n",
    "    database = 'DataAnalytics'\n",
    "    conn = pod.connect('DRIVER={ODBC Driver 17 for SQL Server};SERVER='+server+';DATABASE='+database+';Trusted_Connection=yes')\n",
    "    try:\n",
    "        conn = conn.cursor()\n",
    "        column = ', '.join(df.columns)\n",
    "        placeholder =', '.join(['?'] * len(df.columns))\n",
    "        conn = conn.execute(f'TRUNCATE TABLE {table_name}')\n",
    "        conn.commit()\n",
    "        insert_sql = f'INSERT INTO dbo.[{table_name}] ({column}) VALUES({placeholder})'\n",
    "        conn.executemany(insert_sql, df.values.tolist())\n",
    "        print('Connection Success')\n",
    "    except:\n",
    "        print('Connection Failed')\n",
    "    conn.commit()\n",
    "    conn.close()"
   ]
  },
  {
   "cell_type": "code",
   "execution_count": 13,
   "metadata": {},
   "outputs": [
    {
     "name": "stdout",
     "output_type": "stream",
     "text": [
      "Connection Success\n"
     ]
    }
   ],
   "source": [
    "ins_conn_db(Shipping,'PEI_Shipping')"
   ]
  },
  {
   "cell_type": "code",
   "execution_count": 14,
   "metadata": {},
   "outputs": [
    {
     "name": "stdout",
     "output_type": "stream",
     "text": [
      "Connection Success\n"
     ]
    }
   ],
   "source": [
    "ins_conn_db(Customer,'PEI_Customer')"
   ]
  },
  {
   "cell_type": "code",
   "execution_count": 15,
   "metadata": {},
   "outputs": [
    {
     "name": "stdout",
     "output_type": "stream",
     "text": [
      "Connection Success\n"
     ]
    }
   ],
   "source": [
    "ins_conn_db(Order,'PEI_Order')"
   ]
  },
  {
   "cell_type": "code",
   "execution_count": 16,
   "metadata": {},
   "outputs": [],
   "source": [
    "#connecting to DB to read data from SQL\n",
    "\n",
    "def read_conn_db(query):\n",
    "    server = 'DESKTOP-JAPNGMO'\n",
    "    database = 'DataAnalytics'\n",
    "    conn = pod.connect('DRIVER={ODBC Driver 17 for SQL Server};SERVER='+server+';DATABASE='+database+';Trusted_Connection=yes')\n",
    "    try:\n",
    "        result = pd.read_sql_query(query,conn)\n",
    "        print('Connection Success')\n",
    "    except:\n",
    "        print('Connection Failed')\n",
    "    conn.close()\n",
    "    return result \n",
    "    "
   ]
  },
  {
   "cell_type": "code",
   "execution_count": 17,
   "metadata": {},
   "outputs": [
    {
     "name": "stdout",
     "output_type": "stream",
     "text": [
      "Connection Success\n"
     ]
    },
    {
     "name": "stderr",
     "output_type": "stream",
     "text": [
      "C:\\Users\\DELL\\AppData\\Local\\Temp\\ipykernel_8768\\3104063460.py:8: UserWarning: pandas only supports SQLAlchemy connectable (engine/connection) or database string URI or sqlite3 DBAPI2 connection. Other DBAPI2 objects are not tested. Please consider using SQLAlchemy.\n",
      "  result = pd.read_sql_query(query,conn)\n"
     ]
    }
   ],
   "source": [
    "query = '''WITH Cust AS\n",
    "(SELECT \n",
    "\tCustomer_ID\n",
    "\t,First+' '+Last as [Full Name]\n",
    "\t,CASE WHEN Age <= 30 THEN 'Below 30' ELSE 'Above 30' end as [Age Group] \n",
    "\t,Country\n",
    "FROM dbo.PEI_Customer\n",
    ")\n",
    "\n",
    ",Valid_Ship AS \n",
    "(\n",
    "SELECT \n",
    "\tDISTINCT [Status]\n",
    "\t,Customer_ID\n",
    "\t,ROW_NUMBER() OVER (PARTITION BY Customer_ID ORDER BY Status) as RNM\n",
    "FROM dbo.PEI_Shipping\n",
    "WHERE Customer_ID IN (SELECT Customer_ID FROM dbo.PEI_Order)\n",
    ")\n",
    "\n",
    "SELECT \n",
    "\tCAST(Order_ID AS INT) AS Order_ID\n",
    "\t,CAST(Item AS nvarchar(15)) AS Item\n",
    "\t,CAST([Full Name] AS nvarchar(50)) AS [FullName]\n",
    "\t,CAST([Age Group] AS nvarchar(10)) AS [AgeGroup]\n",
    "\t,CAST(Country AS nvarchar(5)) AS [Country]\n",
    "\t,CAST((CASE WHEN [Status] IS NULL THEN 'Unknown' ELSE [Status] END) AS nvarchar(15)) AS [Status]\n",
    "\t,CAST(Amount AS INT) AS Amount \n",
    "FROM dbo.PEI_Order O\n",
    "\tLEFT JOIN Cust C\n",
    "\t\tON C.Customer_ID = o.Customer_ID\n",
    "\tLEFT JOIN Valid_Ship S\n",
    "\t\tON O.Customer_ID = s.Customer_ID\n",
    "\t\tAND S.RNM = 1\n",
    "Order by Order_ID\n",
    "\n",
    "'''\n",
    "\n",
    "result = read_conn_db(query)\n"
   ]
  },
  {
   "cell_type": "code",
   "execution_count": 52,
   "metadata": {},
   "outputs": [
    {
     "data": {
      "text/html": [
       "<div>\n",
       "<style scoped>\n",
       "    .dataframe tbody tr th:only-of-type {\n",
       "        vertical-align: middle;\n",
       "    }\n",
       "\n",
       "    .dataframe tbody tr th {\n",
       "        vertical-align: top;\n",
       "    }\n",
       "\n",
       "    .dataframe thead th {\n",
       "        text-align: right;\n",
       "    }\n",
       "</style>\n",
       "<table border=\"1\" class=\"dataframe\">\n",
       "  <thead>\n",
       "    <tr style=\"text-align: right;\">\n",
       "      <th></th>\n",
       "      <th>Order_ID</th>\n",
       "      <th>Item</th>\n",
       "      <th>FullName</th>\n",
       "      <th>AgeGroup</th>\n",
       "      <th>Country</th>\n",
       "      <th>Status</th>\n",
       "      <th>Amount</th>\n",
       "    </tr>\n",
       "  </thead>\n",
       "  <tbody>\n",
       "    <tr>\n",
       "      <th>0</th>\n",
       "      <td>1</td>\n",
       "      <td>Keyboard</td>\n",
       "      <td>Ryan Martin</td>\n",
       "      <td>Above 30</td>\n",
       "      <td>UK</td>\n",
       "      <td>Unknown</td>\n",
       "      <td>400</td>\n",
       "    </tr>\n",
       "    <tr>\n",
       "      <th>1</th>\n",
       "      <td>2</td>\n",
       "      <td>Mouse</td>\n",
       "      <td>Stephen Jones</td>\n",
       "      <td>Below 30</td>\n",
       "      <td>USA</td>\n",
       "      <td>Unknown</td>\n",
       "      <td>300</td>\n",
       "    </tr>\n",
       "    <tr>\n",
       "      <th>2</th>\n",
       "      <td>3</td>\n",
       "      <td>Monitor</td>\n",
       "      <td>Janet Holmes</td>\n",
       "      <td>Above 30</td>\n",
       "      <td>UK</td>\n",
       "      <td>Unknown</td>\n",
       "      <td>12000</td>\n",
       "    </tr>\n",
       "    <tr>\n",
       "      <th>3</th>\n",
       "      <td>4</td>\n",
       "      <td>Keyboard</td>\n",
       "      <td>Janet Valdez</td>\n",
       "      <td>Below 30</td>\n",
       "      <td>UK</td>\n",
       "      <td>Unknown</td>\n",
       "      <td>400</td>\n",
       "    </tr>\n",
       "    <tr>\n",
       "      <th>4</th>\n",
       "      <td>5</td>\n",
       "      <td>Mousepad</td>\n",
       "      <td>Janet Valdez</td>\n",
       "      <td>Below 30</td>\n",
       "      <td>UK</td>\n",
       "      <td>Unknown</td>\n",
       "      <td>250</td>\n",
       "    </tr>\n",
       "    <tr>\n",
       "      <th>...</th>\n",
       "      <td>...</td>\n",
       "      <td>...</td>\n",
       "      <td>...</td>\n",
       "      <td>...</td>\n",
       "      <td>...</td>\n",
       "      <td>...</td>\n",
       "      <td>...</td>\n",
       "    </tr>\n",
       "    <tr>\n",
       "      <th>245</th>\n",
       "      <td>246</td>\n",
       "      <td>Harddisk</td>\n",
       "      <td>Xavier Miles</td>\n",
       "      <td>Above 30</td>\n",
       "      <td>USA</td>\n",
       "      <td>Pending</td>\n",
       "      <td>5000</td>\n",
       "    </tr>\n",
       "    <tr>\n",
       "      <th>246</th>\n",
       "      <td>247</td>\n",
       "      <td>Webcam</td>\n",
       "      <td>Shawn Johnson</td>\n",
       "      <td>Below 30</td>\n",
       "      <td>UAE</td>\n",
       "      <td>Delivered</td>\n",
       "      <td>350</td>\n",
       "    </tr>\n",
       "    <tr>\n",
       "      <th>247</th>\n",
       "      <td>248</td>\n",
       "      <td>Mousepad</td>\n",
       "      <td>Tiffany Pearson</td>\n",
       "      <td>Above 30</td>\n",
       "      <td>UAE</td>\n",
       "      <td>Delivered</td>\n",
       "      <td>200</td>\n",
       "    </tr>\n",
       "    <tr>\n",
       "      <th>248</th>\n",
       "      <td>249</td>\n",
       "      <td>DDR RAM</td>\n",
       "      <td>Tiffany Bowers</td>\n",
       "      <td>Above 30</td>\n",
       "      <td>USA</td>\n",
       "      <td>Unknown</td>\n",
       "      <td>1500</td>\n",
       "    </tr>\n",
       "    <tr>\n",
       "      <th>249</th>\n",
       "      <td>250</td>\n",
       "      <td>Headset</td>\n",
       "      <td>Megan Morris</td>\n",
       "      <td>Above 30</td>\n",
       "      <td>UK</td>\n",
       "      <td>Pending</td>\n",
       "      <td>900</td>\n",
       "    </tr>\n",
       "  </tbody>\n",
       "</table>\n",
       "<p>250 rows × 7 columns</p>\n",
       "</div>"
      ],
      "text/plain": [
       "     Order_ID      Item         FullName  AgeGroup Country     Status  Amount\n",
       "0           1  Keyboard      Ryan Martin  Above 30      UK    Unknown     400\n",
       "1           2     Mouse    Stephen Jones  Below 30     USA    Unknown     300\n",
       "2           3   Monitor     Janet Holmes  Above 30      UK    Unknown   12000\n",
       "3           4  Keyboard     Janet Valdez  Below 30      UK    Unknown     400\n",
       "4           5  Mousepad     Janet Valdez  Below 30      UK    Unknown     250\n",
       "..        ...       ...              ...       ...     ...        ...     ...\n",
       "245       246  Harddisk     Xavier Miles  Above 30     USA    Pending    5000\n",
       "246       247    Webcam    Shawn Johnson  Below 30     UAE  Delivered     350\n",
       "247       248  Mousepad  Tiffany Pearson  Above 30     UAE  Delivered     200\n",
       "248       249   DDR RAM   Tiffany Bowers  Above 30     USA    Unknown    1500\n",
       "249       250   Headset     Megan Morris  Above 30      UK    Pending     900\n",
       "\n",
       "[250 rows x 7 columns]"
      ]
     },
     "execution_count": 52,
     "metadata": {},
     "output_type": "execute_result"
    }
   ],
   "source": [
    "result"
   ]
  },
  {
   "cell_type": "code",
   "execution_count": 18,
   "metadata": {},
   "outputs": [],
   "source": [
    "result.to_csv(\"D:/PEI Data Analysis task/Combined_Dataset.csv\",)"
   ]
  }
 ],
 "metadata": {
  "kernelspec": {
   "display_name": "Python 3",
   "language": "python",
   "name": "python3"
  },
  "language_info": {
   "codemirror_mode": {
    "name": "ipython",
    "version": 3
   },
   "file_extension": ".py",
   "mimetype": "text/x-python",
   "name": "python",
   "nbconvert_exporter": "python",
   "pygments_lexer": "ipython3",
   "version": "3.12.2"
  }
 },
 "nbformat": 4,
 "nbformat_minor": 2
}
